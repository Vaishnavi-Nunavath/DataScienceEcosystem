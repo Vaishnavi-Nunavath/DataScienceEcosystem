{
 "cells": [
  {
   "cell_type": "markdown",
   "id": "e20b31ba",
   "metadata": {},
   "source": [
    "Data Science Tools and Ecosystem"
   ]
  },
  {
   "cell_type": "markdown",
   "id": "00e18dae",
   "metadata": {},
   "source": [
    "In this notebook, Data Science Tools and Ecosystem are summarized."
   ]
  },
  {
   "cell_type": "markdown",
   "id": "da2d8358",
   "metadata": {},
   "source": [
    "Some of the popular languages that Data Scientists use are :\n",
    "\n",
    "\n",
    "    1. Python\n",
    "    2. R\n",
    "    3. SQL\n",
    "    4. C++\n",
    "    5. Java etc..;"
   ]
  },
  {
   "cell_type": "markdown",
   "id": "223e1ae2",
   "metadata": {},
   "source": [
    "Some of the commonly used libraries used by Data scientists include :\n",
    "    \n",
    "    1. TensorFlow.\n",
    "    2. Numpy.\n",
    "    3. Scipy.\n",
    "    4. Pandas.\n",
    "    5. Matplotlib.\n",
    "    6. Keras.\n",
    "    7. Scikit-Learn.\n",
    "    8. PyTorch. etc..;"
   ]
  },
  {
   "cell_type": "markdown",
   "id": "53198aaf",
   "metadata": {},
   "source": [
    "|Data Science Tools|\n",
    "|---|\n",
    "|SAS|\n",
    "|Apache Hadoop|\n",
    "|TensorFLow|"
   ]
  },
  {
   "cell_type": "code",
   "execution_count": 4,
   "id": "72f0b5f5",
   "metadata": {},
   "outputs": [
    {
     "data": {
      "text/plain": [
       "32"
      ]
     },
     "execution_count": 4,
     "metadata": {},
     "output_type": "execute_result"
    }
   ],
   "source": [
    "#this is a common arithmetic example for multiply and add two integers.\n",
    "(4*6)+8"
   ]
  },
  {
   "cell_type": "code",
   "execution_count": 5,
   "id": "f2f2d180",
   "metadata": {},
   "outputs": [
    {
     "data": {
      "text/plain": [
       "5.0"
      ]
     },
     "execution_count": 5,
     "metadata": {},
     "output_type": "execute_result"
    }
   ],
   "source": [
    "#this will convert 300 minutes to hours by diving by 60\n",
    "300/60"
   ]
  },
  {
   "cell_type": "markdown",
   "id": "0639b0b2",
   "metadata": {},
   "source": [
    "__Objective__\n",
    "* List popular languages for Data Science\n",
    "* List popular libraries for Data Science\n",
    "* List of well known Data Science Tools\n",
    "* How to provide comments in the cell"
   ]
  },
  {
   "cell_type": "markdown",
   "id": "787f0bb2",
   "metadata": {},
   "source": [
    "## Author\n",
    "Lakshmi Holla\n",
    "\n",
    "Niveditha Pandith"
   ]
  },
  {
   "cell_type": "code",
   "execution_count": null,
   "id": "eeb22e2f",
   "metadata": {},
   "outputs": [],
   "source": []
  }
 ],
 "metadata": {
  "kernelspec": {
   "display_name": "Python 3 (ipykernel)",
   "language": "python",
   "name": "python3"
  },
  "language_info": {
   "codemirror_mode": {
    "name": "ipython",
    "version": 3
   },
   "file_extension": ".py",
   "mimetype": "text/x-python",
   "name": "python",
   "nbconvert_exporter": "python",
   "pygments_lexer": "ipython3",
   "version": "3.11.5"
  }
 },
 "nbformat": 4,
 "nbformat_minor": 5
}
